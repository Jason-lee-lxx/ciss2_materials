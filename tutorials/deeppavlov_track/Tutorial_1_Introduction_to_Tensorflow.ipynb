{
 "cells": [
  {
   "cell_type": "markdown",
   "metadata": {
    "colab_type": "text",
    "id": "wpZdrVMSQTNa"
   },
   "source": [
    "# Tutorial 1. Introduction to TensorFlow\n",
    "\n",
    "# Colab link\n",
    "\n",
    "https://colab.research.google.com/drive/10i1tovcAXjIRoPI8IP5flrhoGuZLUSRe\n",
    "\n",
    "\n",
    "This tutorial is aimed to make participants of Conversational Intelligence Summer School-2019 familiar with `TensorFlow` which is an open source software library for numerical computation using data flow graphs.\n",
    "\n",
    "`TensorFlow` is being used in open source conversational intelligence library `DeepPavlov` as the main neural networks framework. The list of components using `TensorFlow` in `DeepPavlov` is the following:\n",
    "* named entity tagger\n",
    "* text classifier (`Keras` model with `TensorFlow` backend and BERT-based classifier on `TensorFlow`)\n",
    "* goal-oriented bot\n",
    "* ranker for non-factoid question answering (`Keras` model with `TensorFlow` backend)\n",
    "* context-dependent question answering\n",
    "* morpho-tagger (`Keras` model with `TensorFlow` backend)\n",
    "* open-domain question answering\n",
    "\n",
    "The tutorial is based on the [tutorial of CISS-2018](http://deephack.me/ciss#rec52232328)."
   ]
  },
  {
   "cell_type": "markdown",
   "metadata": {
    "colab_type": "text",
    "id": "iH4cmAG_QTNb"
   },
   "source": [
    "## Plan\n",
    "\n",
    "1. [Installation of `TensorFlow`](#Installation-of-TensorFlow)\n",
    "\n",
    "2. [Graph](#Graph)\n",
    "\n",
    "3. [Session](#Session)\n",
    "\n",
    "4. [Variables](#Variables)\n",
    "\n",
    "5. [Running a graph multiple times](#Running-a-graph-multiple-times)\n",
    "\n",
    "6. [Loading external data](#Loading-external-data)\n",
    "\n",
    "7. [Classification with coding task](#Classification)"
   ]
  },
  {
   "cell_type": "markdown",
   "metadata": {
    "colab_type": "text",
    "id": "G9N_5Dy3QTNb"
   },
   "source": [
    "## Installation of TensorFlow"
   ]
  },
  {
   "cell_type": "code",
   "execution_count": 1,
   "metadata": {
    "colab": {
     "base_uri": "https://localhost:8080/",
     "height": 908
    },
    "colab_type": "code",
    "collapsed": false,
    "id": "kAmdpbW-QTNc",
    "outputId": "645e9e09-b176-4477-a838-d6aec8d23198"
   },
   "outputs": [
    {
     "name": "stdout",
     "output_type": "stream",
     "text": [
      "Collecting tensorflow==1.10\n",
      "\u001b[?25l  Downloading https://files.pythonhosted.org/packages/ee/e6/a6d371306c23c2b01cd2cb38909673d17ddd388d9e4b3c0f6602bfd972c8/tensorflow-1.10.0-cp36-cp36m-manylinux1_x86_64.whl (58.4MB)\n",
      "\u001b[K     |████████████████████████████████| 58.4MB 1.4MB/s \n",
      "\u001b[?25hRequirement already satisfied: astor>=0.6.0 in /usr/local/lib/python3.6/dist-packages (from tensorflow==1.10) (0.8.0)\n",
      "Requirement already satisfied: protobuf>=3.6.0 in /usr/local/lib/python3.6/dist-packages (from tensorflow==1.10) (3.7.1)\n",
      "Collecting setuptools<=39.1.0 (from tensorflow==1.10)\n",
      "\u001b[?25l  Downloading https://files.pythonhosted.org/packages/8c/10/79282747f9169f21c053c562a0baa21815a8c7879be97abd930dbcf862e8/setuptools-39.1.0-py2.py3-none-any.whl (566kB)\n",
      "\u001b[K     |████████████████████████████████| 573kB 40.9MB/s \n",
      "\u001b[?25hRequirement already satisfied: grpcio>=1.8.6 in /usr/local/lib/python3.6/dist-packages (from tensorflow==1.10) (1.15.0)\n",
      "Requirement already satisfied: termcolor>=1.1.0 in /usr/local/lib/python3.6/dist-packages (from tensorflow==1.10) (1.1.0)\n",
      "Requirement already satisfied: absl-py>=0.1.6 in /usr/local/lib/python3.6/dist-packages (from tensorflow==1.10) (0.7.1)\n",
      "Collecting tensorboard<1.11.0,>=1.10.0 (from tensorflow==1.10)\n",
      "\u001b[?25l  Downloading https://files.pythonhosted.org/packages/c6/17/ecd918a004f297955c30b4fffbea100b1606c225dbf0443264012773c3ff/tensorboard-1.10.0-py3-none-any.whl (3.3MB)\n",
      "\u001b[K     |████████████████████████████████| 3.3MB 39.3MB/s \n",
      "\u001b[?25hRequirement already satisfied: wheel>=0.26 in /usr/local/lib/python3.6/dist-packages (from tensorflow==1.10) (0.33.4)\n",
      "Requirement already satisfied: gast>=0.2.0 in /usr/local/lib/python3.6/dist-packages (from tensorflow==1.10) (0.2.2)\n",
      "Collecting numpy<=1.14.5,>=1.13.3 (from tensorflow==1.10)\n",
      "\u001b[?25l  Downloading https://files.pythonhosted.org/packages/68/1e/116ad560de97694e2d0c1843a7a0075cc9f49e922454d32f49a80eb6f1f2/numpy-1.14.5-cp36-cp36m-manylinux1_x86_64.whl (12.2MB)\n",
      "\u001b[K     |████████████████████████████████| 12.2MB 40.0MB/s \n",
      "\u001b[?25hRequirement already satisfied: six>=1.10.0 in /usr/local/lib/python3.6/dist-packages (from tensorflow==1.10) (1.12.0)\n",
      "Requirement already satisfied: markdown>=2.6.8 in /usr/local/lib/python3.6/dist-packages (from tensorboard<1.11.0,>=1.10.0->tensorflow==1.10) (3.1.1)\n",
      "Requirement already satisfied: werkzeug>=0.11.10 in /usr/local/lib/python3.6/dist-packages (from tensorboard<1.11.0,>=1.10.0->tensorflow==1.10) (0.15.4)\n",
      "\u001b[31mERROR: spacy 2.1.4 has requirement numpy>=1.15.0, but you'll have numpy 1.14.5 which is incompatible.\u001b[0m\n",
      "\u001b[31mERROR: magenta 0.3.19 has requirement tensorflow>=1.12.0, but you'll have tensorflow 1.10.0 which is incompatible.\u001b[0m\n",
      "\u001b[31mERROR: imgaug 0.2.9 has requirement numpy>=1.15.0, but you'll have numpy 1.14.5 which is incompatible.\u001b[0m\n",
      "\u001b[31mERROR: fastai 1.0.53.post2 has requirement numpy>=1.15, but you'll have numpy 1.14.5 which is incompatible.\u001b[0m\n",
      "\u001b[31mERROR: datascience 0.10.6 has requirement folium==0.2.1, but you'll have folium 0.8.3 which is incompatible.\u001b[0m\n",
      "\u001b[31mERROR: blis 0.2.4 has requirement numpy>=1.15.0, but you'll have numpy 1.14.5 which is incompatible.\u001b[0m\n",
      "\u001b[31mERROR: albumentations 0.1.12 has requirement imgaug<0.2.7,>=0.2.5, but you'll have imgaug 0.2.9 which is incompatible.\u001b[0m\n",
      "Installing collected packages: setuptools, numpy, tensorboard, tensorflow\n",
      "  Found existing installation: setuptools 41.0.1\n",
      "    Uninstalling setuptools-41.0.1:\n",
      "      Successfully uninstalled setuptools-41.0.1\n",
      "  Found existing installation: numpy 1.16.4\n",
      "    Uninstalling numpy-1.16.4:\n",
      "      Successfully uninstalled numpy-1.16.4\n",
      "  Found existing installation: tensorboard 1.13.1\n",
      "    Uninstalling tensorboard-1.13.1:\n",
      "      Successfully uninstalled tensorboard-1.13.1\n",
      "  Found existing installation: tensorflow 1.14.0rc1\n",
      "    Uninstalling tensorflow-1.14.0rc1:\n",
      "      Successfully uninstalled tensorflow-1.14.0rc1\n",
      "Successfully installed numpy-1.14.5 setuptools-39.1.0 tensorboard-1.10.0 tensorflow-1.10.0\n"
     ]
    },
    {
     "data": {
      "application/vnd.colab-display-data+json": {
       "pip_warning": {
        "packages": [
         "numpy",
         "pkg_resources"
        ]
       }
      }
     },
     "metadata": {
      "tags": []
     },
     "output_type": "display_data"
    }
   ],
   "source": [
    "!pip install tensorflow==1.10"
   ]
  },
  {
   "cell_type": "code",
   "execution_count": 0,
   "metadata": {
    "colab": {},
    "colab_type": "code",
    "collapsed": true,
    "id": "0gdtveU-QTNe"
   },
   "outputs": [],
   "source": [
    "import numpy as np\n",
    "import tensorflow as tf"
   ]
  },
  {
   "cell_type": "markdown",
   "metadata": {
    "colab_type": "text",
    "id": "ZO7ODVdgQTNf"
   },
   "source": [
    "`TensorFlow` assumes two computational phases:\n",
    "\n",
    "* Graph - defining a computation,\n",
    "* Session - executing it.\n",
    "\n",
    "A computational graph is a network of nodes, with each node representing an arithmetic operation. \n",
    "\n",
    "Note that all constants and variables that you define are added to graph, even if you don't define the graph object explicitly. In this case they are saved in ``default graph``. You can get the access to your graph with procedure ``tf.get_default_graph()``."
   ]
  },
  {
   "cell_type": "code",
   "execution_count": 3,
   "metadata": {
    "colab": {
     "base_uri": "https://localhost:8080/",
     "height": 35
    },
    "colab_type": "code",
    "collapsed": false,
    "id": "wzvpi-t1QTNg",
    "outputId": "a6aca9c2-4bac-41cd-dc02-540a0f85d326"
   },
   "outputs": [
    {
     "data": {
      "text/plain": [
       "<tensorflow.python.client.session.InteractiveSession at 0x7f6f7bc78898>"
      ]
     },
     "execution_count": 3,
     "metadata": {
      "tags": []
     },
     "output_type": "execute_result"
    }
   ],
   "source": [
    "# we will discuss sessions later\n",
    "tf.InteractiveSession()"
   ]
  },
  {
   "cell_type": "code",
   "execution_count": 4,
   "metadata": {
    "colab": {
     "base_uri": "https://localhost:8080/",
     "height": 35
    },
    "colab_type": "code",
    "collapsed": false,
    "id": "Ev4JNQjfQTNi",
    "outputId": "645d357d-7c1f-40db-96c7-be02c4bc9343"
   },
   "outputs": [
    {
     "name": "stdout",
     "output_type": "stream",
     "text": [
      "Tensor(\"zeros:0\", shape=(2, 2), dtype=float32) Tensor(\"ones:0\", shape=(2, 2), dtype=float32) Tensor(\"Const:0\", shape=(2,), dtype=float32)\n"
     ]
    }
   ],
   "source": [
    "a = tf.zeros((2, 2))\n",
    "b = tf.ones((2, 2))\n",
    "c = tf.constant([1, 2], dtype=tf.float32)\n",
    "print(a, b, c)"
   ]
  },
  {
   "cell_type": "code",
   "execution_count": 5,
   "metadata": {
    "colab": {
     "base_uri": "https://localhost:8080/",
     "height": 72
    },
    "colab_type": "code",
    "collapsed": false,
    "id": "0pcVMxyNQTNk",
    "outputId": "9f00e691-7fdb-4805-92ba-cfc174ee9ee7"
   },
   "outputs": [
    {
     "name": "stdout",
     "output_type": "stream",
     "text": [
      "[[0. 0.]\n",
      " [0. 0.]] [[1. 1.]\n",
      " [1. 1.]] [1. 2.]\n"
     ]
    }
   ],
   "source": [
    "print(a.eval(), b.eval(), c.eval())"
   ]
  },
  {
   "cell_type": "code",
   "execution_count": 6,
   "metadata": {
    "colab": {
     "base_uri": "https://localhost:8080/",
     "height": 72
    },
    "colab_type": "code",
    "collapsed": false,
    "id": "7hAlUEoaQTNm",
    "outputId": "d7d7b710-1c59-4f7a-9c8b-cc877ed1ca4e"
   },
   "outputs": [
    {
     "name": "stdout",
     "output_type": "stream",
     "text": [
      "[2. 2.]\n",
      "[[2. 3.]\n",
      " [2. 3.]]\n"
     ]
    }
   ],
   "source": [
    "print(tf.reduce_sum(b, axis=1).eval())  # don't forget about eval()\n",
    "print(tf.add(b, c).eval())"
   ]
  },
  {
   "cell_type": "code",
   "execution_count": 7,
   "metadata": {
    "colab": {
     "base_uri": "https://localhost:8080/",
     "height": 72
    },
    "colab_type": "code",
    "collapsed": false,
    "id": "Vb89x6PmQTNo",
    "outputId": "d66da72c-2585-4b65-8e55-afaef2af3af0"
   },
   "outputs": [
    {
     "name": "stdout",
     "output_type": "stream",
     "text": [
      "(2, 2)\n",
      "[[0. 0. 0. 0.]]\n",
      "[[0. 0. 0. 0.]]\n"
     ]
    }
   ],
   "source": [
    "# This is not an operation on graph - it just gets the information about the node,\n",
    "# so we don't need eval()\n",
    "print(a.get_shape())\n",
    "\n",
    "# These operations change the node, though\n",
    "print(tf.reshape(a, (1, 4)).eval())\n",
    "print(tf.reshape(a, (-1, 4)).eval())"
   ]
  },
  {
   "cell_type": "markdown",
   "metadata": {
    "colab_type": "text",
    "id": "jrti9IwjQTNp"
   },
   "source": [
    "# Graph\n",
    "\n",
    "A computational graph is a network of nodes, with each node representing an arithmetic operation.\n",
    "\n",
    "Note that all constants and variables that you define are added to graph, even if you don't define the graph object explicitly. In this case they are saved in `default graph`. You can get the access to your graph with procedure `tf.get_default_graph()`."
   ]
  },
  {
   "cell_type": "code",
   "execution_count": 0,
   "metadata": {
    "colab": {},
    "colab_type": "code",
    "collapsed": true,
    "id": "G_dq0YFKQTNq"
   },
   "outputs": [],
   "source": [
    "# We can save the graph with the following line of code\n",
    "file_writer = tf.summary.FileWriter('./just-initial', tf.get_default_graph())"
   ]
  },
  {
   "cell_type": "markdown",
   "metadata": {
    "colab_type": "text",
    "id": "7ajP1VwsQTNr"
   },
   "source": [
    "FileWriter object writes all information about your TF graph (graph itself, values of variables, etc.) in a file. You should provide a directory to save the information, and the graph to save.\n",
    "\n",
    "After running the above cell you'll be able to see the graph using `tensorboard` tool you should go to the directory of this notebook and run the following command in shell:\n",
    "```\n",
    "tensorboard --logdir=./\n",
    "```\n",
    "and then open the page http://localhost:6006 in your browser."
   ]
  },
  {
   "cell_type": "markdown",
   "metadata": {
    "colab_type": "text",
    "id": "Yy3N6ibcQTNs"
   },
   "source": [
    "# Session\n",
    "\n",
    "\n",
    "Building of a graph does not automatically execute it. In order to get the values of nodes you should compute your graph in a `Session`. `Session` creates an environment to execute a graph, you can't do it outside a session.\n",
    "\n",
    "The method `run()` of a session performs computations. It has one required element -- a node to compute."
   ]
  },
  {
   "cell_type": "code",
   "execution_count": 9,
   "metadata": {
    "colab": {
     "base_uri": "https://localhost:8080/",
     "height": 35
    },
    "colab_type": "code",
    "collapsed": false,
    "id": "7l-9iPD0QTNs",
    "outputId": "425dd34c-69b4-4bee-c453-53aff930afe1"
   },
   "outputs": [
    {
     "name": "stdout",
     "output_type": "stream",
     "text": [
      "[1. 1. 1. 1. 1.]\n"
     ]
    }
   ],
   "source": [
    "a = tf.ones(5)\n",
    "\n",
    "with tf.Session() as session:\n",
    "    print(session.run(a))"
   ]
  },
  {
   "cell_type": "markdown",
   "metadata": {
    "colab_type": "text",
    "id": "xUG0maTUQTNu"
   },
   "source": [
    "Unlike `Graph`, `Session` is not defined implicitly. There is a function `tf.get_default_session()`, but you need to specify which `Session` you will use as default.\n",
    "In iPython it is convenient to use `InteractiveSession` object (as we did above). If an instance of the `InteractiveSession` class has been created, it is treated as a default session. If you have an `InteractiveSession`, you can use `eval()` procedure in your code which is in fact equivalent to \n",
    "\n",
    "```tf.get_default_session().run()```\n",
    "\n",
    "**NB**: In notebooks it is easier to use `InteractiveSession`, but it is not recommended in scripts. There, you  should separate building of the graph from computations."
   ]
  },
  {
   "cell_type": "code",
   "execution_count": 10,
   "metadata": {
    "colab": {
     "base_uri": "https://localhost:8080/",
     "height": 72
    },
    "colab_type": "code",
    "collapsed": false,
    "id": "WcI91kBsQTNu",
    "outputId": "d62bd909-c8e5-4d16-db72-4b76655ffe13"
   },
   "outputs": [
    {
     "name": "stdout",
     "output_type": "stream",
     "text": [
      "Tensor(\"mul:0\", shape=(), dtype=float32)\n",
      "-6.0\n",
      "-6.0\n"
     ]
    }
   ],
   "source": [
    "# let's recap different ways of evaluating nodes of a graph\n",
    "a = tf.constant(-2.0)\n",
    "b = tf.constant(3.0)\n",
    "c = a * b\n",
    "\n",
    "# let's create a session explicitly\n",
    "with tf.Session() as sess:\n",
    "    print(c)              # print the name of a node in the graph\n",
    "    print(sess.run(c))    # compute the node and print the result\n",
    "    print(c.eval())       # another way of computing the node\n",
    "\n",
    "# the graph is saved, you can look at it using `tensorboard`\n",
    "file_writer = tf.summary.FileWriter('./second-try', tf.get_default_graph())"
   ]
  },
  {
   "cell_type": "markdown",
   "metadata": {
    "colab_type": "text",
    "id": "HTFyZNiSQTNw"
   },
   "source": [
    "# Variables\n",
    "\n",
    "So far we experimented only with constant tensors - they can be created using functions `tf.Tensor()`, `tf.constant()`, `tf.zeros()`, etc. \n",
    "\n",
    "For model weights storage we will use `Variable` objects.\n",
    "\n",
    "`Variable` constructor accepts constant of any type. An important difference between `Variable` and `constant` is that variable requires initialisation."
   ]
  },
  {
   "cell_type": "code",
   "execution_count": 11,
   "metadata": {
    "colab": {
     "base_uri": "https://localhost:8080/",
     "height": 90
    },
    "colab_type": "code",
    "collapsed": false,
    "id": "cwe2kqGXQTNw",
    "outputId": "9b9cf9a3-faef-48b1-989f-7b3b6a3887a7"
   },
   "outputs": [
    {
     "name": "stdout",
     "output_type": "stream",
     "text": [
      "[[1. 1.]\n",
      " [1. 1.]]\n",
      "[[0. 0.]\n",
      " [0. 0.]]\n"
     ]
    }
   ],
   "source": [
    "tf.reset_default_graph() # reset the graph\n",
    "\n",
    "W1 = tf.ones((2, 2))  # a 2x2 tensor of ones\n",
    "W2 = tf.Variable(tf.zeros((2, 2)), name='weights')\n",
    "\n",
    "with tf.Session() as sess:\n",
    "    print(sess.run(W1))\n",
    "    \n",
    "    sess.run(tf.global_variables_initializer())  # initialises all Variables, try running the code without it\n",
    "    print(sess.run(W2))\n",
    "    \n",
    "# check the graph for variables\n",
    "file_writer = tf.summary.FileWriter('./vars', tf.get_default_graph())"
   ]
  },
  {
   "cell_type": "markdown",
   "metadata": {
    "colab_type": "text",
    "id": "2mQmRzM2QTNz"
   },
   "source": [
    "Another way of creating a `Variable` is to call `tf.get_variable()`. It is called as follows:\n",
    "```\n",
    "var = tf.get_variable('my_var', shape=(3,4), initializer=tf.random_normal_initializer())\n",
    "```\n",
    "The first argument is variable name. \n",
    "\n",
    "The difference between `tf.get_variable` and `Variable` constructor is that you need to pass the initial value of a variable to the constructor, whereas when using `tf.get_variable` you need to define variable shape and the way of initializing it (e.g. from the normal distribution)."
   ]
  },
  {
   "cell_type": "markdown",
   "metadata": {
    "colab_type": "text",
    "id": "iC6KDQLXQTN0"
   },
   "source": [
    "## Running a graph multiple times\n",
    "\n",
    "Once we have `Variables` which save values between the runs, we can try computing a graph multiple times.\n",
    "\n",
    "All the computations in a graph should be organised differently from how you would do it in regular Python code.\n",
    "\n",
    "This is an example of making a counter in a graph to count the number of training epochs"
   ]
  },
  {
   "cell_type": "code",
   "execution_count": 12,
   "metadata": {
    "colab": {
     "base_uri": "https://localhost:8080/",
     "height": 217
    },
    "colab_type": "code",
    "collapsed": false,
    "id": "B88qvgfkQTN0",
    "outputId": "5e7f0dad-cefb-459a-cb45-b5f979a767da"
   },
   "outputs": [
    {
     "name": "stdout",
     "output_type": "stream",
     "text": [
      "0\n",
      "1\n",
      "2\n",
      "3\n",
      "4\n",
      "5\n",
      "6\n",
      "7\n",
      "8\n",
      "9\n",
      "10\n"
     ]
    }
   ],
   "source": [
    "tf.reset_default_graph() # try commenting out and running the cell multiple times\n",
    "                         # what happens with the computational graph?\n",
    "\n",
    "state = tf.Variable(0, name=\"counter\")\n",
    "new_value = tf.add(state, tf.constant(1))\n",
    "\n",
    "update_op = tf.assign(state, new_value)   # state <- new_value\n",
    "\n",
    "file_writer = tf.summary.FileWriter('./counter', tf.get_default_graph())\n",
    "\n",
    "with tf.Session() as sess:\n",
    "    sess.run(tf.global_variables_initializer())\n",
    "    print(state.eval())\n",
    "    \n",
    "    for i in range(10):\n",
    "        sess.run(update_op)\n",
    "        print(state.eval())\n",
    "        \n",
    "file_writer = tf.summary.FileWriter('./counter', tf.get_default_graph())"
   ]
  },
  {
   "cell_type": "markdown",
   "metadata": {
    "colab_type": "text",
    "id": "2_97_lzhQTN2"
   },
   "source": [
    "## Loading external data\n",
    "\n",
    "`Variables` serve for changeable objects (e.g. model weights). We don't need them to store the input data, because it doesn't change.\n",
    "\n",
    "However, the graph is built before actual computations or loading the data. It means that we cannot use `constant` tensors for inputs. Instead of that we will use `placehoders`. They are tensors that can be placed in a graph without initialisation.\n",
    "\n",
    "When a graph has already been created, you can insert your data into a `placehoder` using `feed_dict`.\n",
    "\n",
    "`feed_dict` is a dictionary where keys are **placeholders** which you need to compute the node, and values are **data objects** you need to use instead of these placeholders.\n",
    "\n",
    "When defining a `placeholder` you need to define its type and shape. However, if you don't know some of the dimensions (e.g. size of your dataset), you can replace them with `None`:\n",
    "```\n",
    "my_input = tf.placeholder(tf.float32, (None, 5))\n",
    "```\n",
    "`my_input` is a matrix with 5 columns and unknown number of rows."
   ]
  },
  {
   "cell_type": "code",
   "execution_count": 13,
   "metadata": {
    "colab": {
     "base_uri": "https://localhost:8080/",
     "height": 35
    },
    "colab_type": "code",
    "collapsed": false,
    "id": "TUiH1JOFQTN3",
    "outputId": "0bc7a845-2d47-4672-a1f6-aa080c1f5ae7"
   },
   "outputs": [
    {
     "name": "stdout",
     "output_type": "stream",
     "text": [
      "-40.0\n"
     ]
    }
   ],
   "source": [
    "# placeholders for vectors of unknown size\n",
    "inp1 = tf.placeholder(tf.float32, (None))\n",
    "inp2 = tf.placeholder(tf.float32, (None))\n",
    "\n",
    "out = inp1 * inp2\n",
    "\n",
    "# we first feed in single numbers\n",
    "with tf.Session() as sess:\n",
    "    feed_dict = {inp1: 10, inp2: -4}\n",
    "    print(sess.run(out, feed_dict=feed_dict))"
   ]
  },
  {
   "cell_type": "code",
   "execution_count": 14,
   "metadata": {
    "colab": {
     "base_uri": "https://localhost:8080/",
     "height": 35
    },
    "colab_type": "code",
    "collapsed": false,
    "id": "Gl2umo5QQTN5",
    "outputId": "10ae66ed-45d7-49da-f1c1-14282670da76"
   },
   "outputs": [
    {
     "name": "stdout",
     "output_type": "stream",
     "text": [
      "[ -40.  100. 1000.]\n"
     ]
    }
   ],
   "source": [
    "# And now try arrays\n",
    "with tf.Session() as sess:\n",
    "    # make sure that the operation can be done on objects of given sizes\n",
    "    feed_dict = {inp1: np.array([10]), inp2: np.array([-4, 10, 100])}\n",
    "    print(sess.run(out, feed_dict=feed_dict))\n",
    "file_writer = tf.summary.FileWriter('./placeholders', tf.get_default_graph())"
   ]
  },
  {
   "cell_type": "markdown",
   "metadata": {
    "colab_type": "text",
    "id": "j1x4JSrVQTN7"
   },
   "source": [
    "# Classification\n",
    "\n",
    "Let's solve classification task for Iris dataset from sklearn."
   ]
  },
  {
   "cell_type": "code",
   "execution_count": 0,
   "metadata": {
    "colab": {},
    "colab_type": "code",
    "collapsed": true,
    "id": "NoFk1Q0KQTN7"
   },
   "outputs": [],
   "source": [
    "import matplotlib.pyplot as plt\n",
    "%matplotlib inline\n",
    "\n",
    "# the data is already stored in sklearn library\n",
    "# we'll take it from there\n",
    "from sklearn.datasets import load_iris\n",
    "\n",
    "iris_data = load_iris()"
   ]
  },
  {
   "cell_type": "code",
   "execution_count": 16,
   "metadata": {
    "colab": {
     "base_uri": "https://localhost:8080/",
     "height": 90
    },
    "colab_type": "code",
    "collapsed": false,
    "id": "KJz3yLmHQTN9",
    "outputId": "e47150a6-4c18-4e90-f8bc-ecaa2c22143d"
   },
   "outputs": [
    {
     "data": {
      "text/plain": [
       "['sepal length (cm)',\n",
       " 'sepal width (cm)',\n",
       " 'petal length (cm)',\n",
       " 'petal width (cm)']"
      ]
     },
     "execution_count": 16,
     "metadata": {
      "tags": []
     },
     "output_type": "execute_result"
    }
   ],
   "source": [
    "iris_data.feature_names"
   ]
  },
  {
   "cell_type": "code",
   "execution_count": 17,
   "metadata": {
    "colab": {
     "base_uri": "https://localhost:8080/",
     "height": 72
    },
    "colab_type": "code",
    "collapsed": false,
    "id": "qun92LKmQTN-",
    "outputId": "5c97d9b6-2808-4e00-e7c0-7c456f7cce6d"
   },
   "outputs": [
    {
     "data": {
      "text/plain": [
       "array([[5.1, 3.5, 1.4, 0.2],\n",
       "       [4.9, 3. , 1.4, 0.2],\n",
       "       [4.7, 3.2, 1.3, 0.2]])"
      ]
     },
     "execution_count": 17,
     "metadata": {
      "tags": []
     },
     "output_type": "execute_result"
    }
   ],
   "source": [
    "X = iris_data.data\n",
    "X[:3]"
   ]
  },
  {
   "cell_type": "code",
   "execution_count": 18,
   "metadata": {
    "colab": {
     "base_uri": "https://localhost:8080/",
     "height": 35
    },
    "colab_type": "code",
    "collapsed": false,
    "id": "bVq9YK3jQTOA",
    "outputId": "e4abf40d-3a86-4869-cb63-65e1d5f87189"
   },
   "outputs": [
    {
     "data": {
      "text/plain": [
       "array(['setosa', 'versicolor', 'virginica'], dtype='<U10')"
      ]
     },
     "execution_count": 18,
     "metadata": {
      "tags": []
     },
     "output_type": "execute_result"
    }
   ],
   "source": [
    "iris_data.target_names"
   ]
  },
  {
   "cell_type": "code",
   "execution_count": 19,
   "metadata": {
    "colab": {
     "base_uri": "https://localhost:8080/",
     "height": 126
    },
    "colab_type": "code",
    "collapsed": false,
    "id": "VZLtLQ-RQTOB",
    "outputId": "32a0d2bc-8191-438b-fd6b-54bd06596527",
    "scrolled": true
   },
   "outputs": [
    {
     "name": "stdout",
     "output_type": "stream",
     "text": [
      "[0 0 0 0 0 0 0 0 0 0 0 0 0 0 0 0 0 0 0 0 0 0 0 0 0 0 0 0 0 0 0 0 0 0 0 0 0\n",
      " 0 0 0 0 0 0 0 0 0 0 0 0 0 1 1 1 1 1 1 1 1 1 1 1 1 1 1 1 1 1 1 1 1 1 1 1 1\n",
      " 1 1 1 1 1 1 1 1 1 1 1 1 1 1 1 1 1 1 1 1 1 1 1 1 1 1]\n"
     ]
    },
    {
     "data": {
      "text/plain": [
       "array([[1., 0., 0.],\n",
       "       [1., 0., 0.],\n",
       "       [1., 0., 0.]])"
      ]
     },
     "execution_count": 19,
     "metadata": {
      "tags": []
     },
     "output_type": "execute_result"
    }
   ],
   "source": [
    "y = iris_data.target\n",
    "print(y[:100])\n",
    "# let's convert data to one-hot representation\n",
    "eye = np.eye(len(iris_data.target_names))\n",
    "y = eye[y]\n",
    "\n",
    "y[:3]"
   ]
  },
  {
   "cell_type": "code",
   "execution_count": 20,
   "metadata": {
    "colab": {
     "base_uri": "https://localhost:8080/",
     "height": 284
    },
    "colab_type": "code",
    "collapsed": false,
    "id": "aYMkM2gDQTOD",
    "outputId": "a7ce786d-741f-435c-c188-5b637029527e"
   },
   "outputs": [
    {
     "data": {
      "image/png": "[encoded data removed]",
      "text/plain": [
       "<Figure size 432x288 with 1 Axes>"
      ]
     },
     "metadata": {
      "tags": []
     },
     "output_type": "display_data"
    }
   ],
   "source": [
    "colors = np.array([\"r\", \"g\", \"b\"])\n",
    "p = plt.scatter(X[:, 0], X[:, 1], c=colors[iris_data.target])\n",
    "\n",
    "l = plt.xlabel(iris_data.feature_names[0])\n",
    "l = plt.ylabel(iris_data.feature_names[1])"
   ]
  },
  {
   "cell_type": "code",
   "execution_count": 21,
   "metadata": {
    "colab": {
     "base_uri": "https://localhost:8080/",
     "height": 284
    },
    "colab_type": "code",
    "collapsed": false,
    "id": "svYKahE3QTOF",
    "outputId": "775c0c4f-7b56-4a0d-e8ce-ccd5155a0422"
   },
   "outputs": [
    {
     "data": {
      "image/png": "[encoded data removed]",
      "text/plain": [
       "<Figure size 432x288 with 1 Axes>"
      ]
     },
     "metadata": {
      "tags": []
     },
     "output_type": "display_data"
    }
   ],
   "source": [
    "colors = np.array([\"r\", \"g\", \"b\"])\n",
    "p = plt.scatter(X[:, 2], X[:, 3], c=colors[iris_data.target])\n",
    "\n",
    "l = plt.xlabel(iris_data.feature_names[2])\n",
    "l = plt.ylabel(iris_data.feature_names[3])"
   ]
  },
  {
   "cell_type": "code",
   "execution_count": 22,
   "metadata": {
    "colab": {
     "base_uri": "https://localhost:8080/",
     "height": 35
    },
    "colab_type": "code",
    "collapsed": false,
    "id": "u69bXlbjQTOG",
    "outputId": "a05b17e6-02bf-45ad-be85-a36a6c14cd10"
   },
   "outputs": [
    {
     "name": "stdout",
     "output_type": "stream",
     "text": [
      "(150, 4) (150, 3)\n"
     ]
    }
   ],
   "source": [
    "# normalise feature values to make training more stable\n",
    "X = X / X.std()\n",
    "\n",
    "# training parameters\n",
    "batch_size = 32\n",
    "n_samples = X.shape[0]\n",
    "n_features = X.shape[1]\n",
    "n_classes = y.shape[1]\n",
    "\n",
    "print(X.shape, y.shape)"
   ]
  },
  {
   "cell_type": "markdown",
   "metadata": {
    "colab_type": "text",
    "id": "oNLP84lCQTOI"
   },
   "source": [
    "Let's now build the graph.\n",
    "\n",
    "You should first define the parameters of the model - weight matrix `W` and bias vector `b`.\n",
    "\n",
    "The shape of `W` is n_features $\\times$ n_classes (4 $\\times$ 3 in our case).\n",
    "The length of `b` is n_classes (3 in our case).\n",
    "\n",
    "You should initialise both variables with values from normal distribution (you can use `tf.random_normal_initializer()`).\n",
    "\n",
    "Then you should define the value of prediction: $\\hat{y} = X \\times W + b$.\n",
    "\n",
    "Finally, define the loss: \n",
    "\n",
    "$$L = \\frac{1}{N} \\sum_{i=0}^{N} (y_i-\\hat{y_i})^{2}$$\n",
    "\n",
    "where *N* is the number of samples\n",
    "\n",
    "**NB**: you can multiply matrices with `tf.matmul` and sum vectors with `tf.reduce_sum`. As well as you can use `tf.layers.dense` and `tf.losses.mean_squared_error`."
   ]
  },
  {
   "cell_type": "code",
   "execution_count": 0,
   "metadata": {
    "colab": {},
    "colab_type": "code",
    "collapsed": true,
    "id": "uS9N8JMgQTOI"
   },
   "outputs": [],
   "source": [
    "tf.reset_default_graph()\n",
    "\n",
    "# create placeholders\n",
    "# these should be tensors of type tf.float32\n",
    "# X should be a matrix of size batch_size * n_features\n",
    "# y should be a matrix of size batch_size * 1\n",
    "\n",
    "# here is your code\n",
    "X_ph = tf.placeholder(tf.float32, (batch_size, n_features))\n",
    "y_ph = tf.placeholder(tf.float32, (batch_size, n_classes))\n",
    "\n",
    "with tf.variable_scope(\"iris\"):\n",
    "    # here you can either \n",
    "    # create randomly initialized weights of the model by hands\n",
    "    # and define model prediction through matrix operations,\n",
    "    # or use just tf.layers.dense on the defined number of classes\n",
    "    # define loss using mean_squared_error\n",
    "    \n",
    "    # here is your code\n",
    "    \n",
    "    loss = tf.losses.mean_squared_error(y_ph, y_pred)"
   ]
  },
  {
   "cell_type": "markdown",
   "metadata": {
    "colab_type": "text",
    "id": "yyWVQIjwQTOK"
   },
   "source": [
    "Our task is to minimise `loss`. In order to do that we should define an optimiser and define an operation for it (minimisation). We recommend using Adam optimiser:"
   ]
  },
  {
   "cell_type": "code",
   "execution_count": 0,
   "metadata": {
    "colab": {},
    "colab_type": "code",
    "collapsed": true,
    "id": "w1Duv0UmQTOL"
   },
   "outputs": [],
   "source": [
    "opt = tf.train.AdamOptimizer()\n",
    "train_op = opt.minimize(loss)"
   ]
  },
  {
   "cell_type": "code",
   "execution_count": 0,
   "metadata": {
    "colab": {},
    "colab_type": "code",
    "collapsed": true,
    "id": "2WxEYfDvQTON"
   },
   "outputs": [],
   "source": [
    "# write graph to a file\n",
    "file_writer = tf.summary.FileWriter('./iris', tf.get_default_graph())\n",
    "\n",
    "# we'll put values of loss here\n",
    "train_history = []\n",
    "\n",
    "with tf.Session() as sess:\n",
    "    # don't forget to initialise variables\n",
    "    sess.run(tf.initialize_all_variables())\n",
    "    \n",
    "    # train a model\n",
    "    for _ in range(3000):\n",
    "        idx = np.random.choice(n_samples, batch_size)\n",
    "        X_batch, y_batch = X[idx, :], y[idx, :]\n",
    "        # run the session given loss and train operation as inputs\n",
    "        # and feeding dict with batch of X and y\n",
    "        # note that session.run returns loss_value\n",
    "        # and additional information (you don't need it)\n",
    "        \n",
    "        # here is your code\n",
    "        \n",
    "        train_history.append(loss_value)"
   ]
  },
  {
   "cell_type": "code",
   "execution_count": 0,
   "metadata": {
    "colab": {},
    "colab_type": "code",
    "collapsed": true,
    "id": "dxHIBOrmQTOO"
   },
   "outputs": [],
   "source": [
    "plt.plot(train_history)\n",
    "plt.show()"
   ]
  },
  {
   "cell_type": "code",
   "execution_count": 0,
   "metadata": {
    "colab": {},
    "colab_type": "code",
    "collapsed": true,
    "id": "4RWaQaqMQTOR"
   },
   "outputs": [],
   "source": []
  }
 ],
 "metadata": {
  "colab": {
   "collapsed_sections": [],
   "name": "Tutorial_1_Introduction_to_Tensorflow.ipynb",
   "provenance": [],
   "version": "0.3.2"
  },
  "kernelspec": {
   "display_name": "Py3.6",
   "language": "python",
   "name": "py36"
  },
  "language_info": {
   "codemirror_mode": {
    "name": "ipython",
    "version": 3
   },
   "file_extension": ".py",
   "mimetype": "text/x-python",
   "name": "python",
   "nbconvert_exporter": "python",
   "pygments_lexer": "ipython3",
   "version": "3.6.5"
  }
 },
 "nbformat": 4,
 "nbformat_minor": 0
}
