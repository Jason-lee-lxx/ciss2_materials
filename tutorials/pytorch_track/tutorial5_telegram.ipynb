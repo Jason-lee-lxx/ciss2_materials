{
 "cells": [
  {
   "cell_type": "markdown",
   "metadata": {},
   "source": [
    "# Time to Learn Telegram Chatbots\n",
    "\n",
    "\n",
    "Install the Telegram package with:\n",
    "\n",
    "**pip install python-telegram-bot==12.0.0b1 --upgrade**\n",
    "\n",
    "This tutorial was modified from the Telegram bot Github page. [See there for more information.](https://github.com/python-telegram-bot/python-telegram-bot)\n",
    "\n",
    "Now we will go through the basics of creating your bot:"
   ]
  },
  {
   "cell_type": "code",
   "execution_count": 1,
   "metadata": {},
   "outputs": [],
   "source": [
    "# the telegram package holds everything we need for this tutorial\n",
    "import telegram\n",
    "from telegram.ext import Updater\n",
    "from telegram.ext import CommandHandler\n",
    "from telegram.ext import MessageHandler, Filters"
   ]
  },
  {
   "cell_type": "code",
   "execution_count": null,
   "metadata": {},
   "outputs": [],
   "source": [
    "# Authorization token needed - @BotFather\n",
    "TOKEN = \"764368673:AAGqBzI4RbIJYne35MwPIKMbEXsHKK_Dh0U\""
   ]
  },
  {
   "cell_type": "code",
   "execution_count": null,
   "metadata": {},
   "outputs": [],
   "source": [
    "# Create our bot using the token\n",
    "\n",
    "bot = telegram.Bot(token=TOKEN)"
   ]
  },
  {
   "cell_type": "code",
   "execution_count": null,
   "metadata": {},
   "outputs": [],
   "source": [
    "# Does the bot look correct? Let's check the details\n",
    "print(bot.get_me())"
   ]
  },
  {
   "cell_type": "code",
   "execution_count": null,
   "metadata": {},
   "outputs": [],
   "source": [
    "# If things go wrong, we won't know unless we enable logging\n",
    "import logging\n",
    "logging.basicConfig(format='%(asctime)s - %(name)s - %(levelname)s - %(message)s',\n",
    "                     level=logging.INFO)"
   ]
  },
  {
   "cell_type": "markdown",
   "metadata": {},
   "source": [
    "# We have a bot - now let's handle incoming messages\n",
    "\n",
    "We will now create function handlers for different input commands from the user.\n",
    "\n",
    "This will be achieved using a Telegram \"Updater\" object."
   ]
  },
  {
   "cell_type": "code",
   "execution_count": null,
   "metadata": {},
   "outputs": [],
   "source": [
    "# We will create an updater to update the conversation between user and bot\n",
    "updater = Updater(token=TOKEN, use_context=True)"
   ]
  },
  {
   "cell_type": "code",
   "execution_count": null,
   "metadata": {},
   "outputs": [],
   "source": [
    "# Let's create a handler function to handle when the user says \"/start\"\n",
    "def start(update, context):\n",
    "    # Here, we blindly respond to the user\n",
    "    # The /start command could have come with arguments, we ignore those\n",
    "    context.bot.send_message(chat_id=update.message.chat_id, text=\"I'm a bot, please talk to me!\")"
   ]
  },
  {
   "cell_type": "code",
   "execution_count": null,
   "metadata": {},
   "outputs": [],
   "source": [
    "# A \"dispatcher\" object allows us to add this command handler\n",
    "dispatcher = updater.dispatcher\n",
    "start_handler = CommandHandler('start', start)\n",
    "dispatcher.add_handler(start_handler)"
   ]
  },
  {
   "cell_type": "code",
   "execution_count": null,
   "metadata": {},
   "outputs": [],
   "source": [
    "# We have a bot, we have a command handler, let's start this thing up!\n",
    "updater.start_polling()"
   ]
  },
  {
   "cell_type": "markdown",
   "metadata": {},
   "source": [
    "Now let's add another handler."
   ]
  },
  {
   "cell_type": "code",
   "execution_count": null,
   "metadata": {},
   "outputs": [],
   "source": [
    "# Okay, now let's respond to a user input command \"caps\"\n",
    "def caps(update, context):\n",
    "    text_caps = ' '.join(context.args).upper()\n",
    "    context.bot.send_message(chat_id=update.message.chat_id, text=text_caps)\n",
    "\n",
    "caps_handler = CommandHandler('caps', caps)\n",
    "dispatcher.add_handler(caps_handler)"
   ]
  },
  {
   "cell_type": "markdown",
   "metadata": {},
   "source": [
    "# But what to do in your project?\n",
    "\n",
    "Let's explore responding to arbitrary messages."
   ]
  },
  {
   "cell_type": "code",
   "execution_count": null,
   "metadata": {},
   "outputs": [],
   "source": [
    "# This simple bot will simply tell the user what they said - easy peasy\n",
    "def respond(update, context):\n",
    "    # This is how you access the user input message\n",
    "    message = update.message.text\n",
    "    context.bot.send_message(chat_id=update.message.chat_id, text='You said: %s' % message)"
   ]
  },
  {
   "cell_type": "markdown",
   "metadata": {},
   "source": [
    "Now we have our handler. Let's add it."
   ]
  },
  {
   "cell_type": "code",
   "execution_count": null,
   "metadata": {},
   "outputs": [],
   "source": [
    "# Filters.text allows the handler to only respond to text messages\n",
    "msg_handler = MessageHandler(Filters.text, respond)\n",
    "dispatcher.add_handler(msg_handler)"
   ]
  },
  {
   "cell_type": "code",
   "execution_count": null,
   "metadata": {},
   "outputs": [],
   "source": [
    "# We are tired of this bot. Let's shut it down!\n",
    "updater.stop()"
   ]
  },
  {
   "cell_type": "markdown",
   "metadata": {},
   "source": [
    "# Now let's wrap it all into a class structure!\n",
    "\n",
    "We will call this class Chatbot."
   ]
  },
  {
   "cell_type": "code",
   "execution_count": null,
   "metadata": {},
   "outputs": [],
   "source": [
    "class Chatbot:\n",
    "    def __init__(self, token):\n",
    "        \"\"\"This chatbot takes a Telegram authorization toke and a handler function,\n",
    "        and deploys a Telegram chatbot to respond to user messages with that token.\n",
    "        \n",
    "        token - a string authorization token provided by @BotFather on Telegram\n",
    "        handle_func - a function taking update, context parameters which responds to user inputs\n",
    "        \"\"\"\n",
    "        self.token = token\n",
    "        self.bot = telegram.Bot(token=TOKEN)\n",
    "        self.updater = Updater(token=TOKEN, use_context=True)\n",
    "        self.dispatcher = self.updater.dispatcher\n",
    "        self.updater.start_polling()\n",
    "        \n",
    "    def stop(self):\n",
    "        \"\"\"Stop the Telegram bot\"\"\"\n",
    "        self.updater.stop()\n",
    "        \n",
    "    def add_handler(self, handler):\n",
    "        \"\"\"Add a handler function to extend bot functionality\"\"\"\n",
    "        self.dispatcher.add_handler(handler)\n",
    "    \n",
    "    "
   ]
  },
  {
   "cell_type": "code",
   "execution_count": null,
   "metadata": {},
   "outputs": [],
   "source": [
    "def reverse(update, context):\n",
    "    \"\"\"Whatever the user says, reverse their message and repeat it back to them.\"\"\"\n",
    "    message = update.message.text\n",
    "    rev_message = \"\".join(reversed(message)) \n",
    "    context.bot.send_message(chat_id=update.message.chat_id, text=rev_message)\n",
    "    \n",
    "def greeting(update, context):\n",
    "    \"\"\"Greet the user and ask for their name.\"\"\"\n",
    "    context.bot.send_message(chat_id=update.message.chat_id, text=\"Hello there! What is your name?\")\n",
    "\n",
    "bot = Chatbot(TOKEN)\n",
    "bot.add_handler(MessageHandler(Filters.text, reverse))\n",
    "bot.add_handler(CommandHandler('start', greeting))"
   ]
  },
  {
   "cell_type": "code",
   "execution_count": null,
   "metadata": {},
   "outputs": [],
   "source": [
    "bot.stop()"
   ]
  },
  {
   "cell_type": "markdown",
   "metadata": {},
   "source": [
    "# This is all good, but what about a longer message history?\n",
    "\n",
    "A more intelligent bot doesn't respond to only the previous message. What if we want the whole history?"
   ]
  },
  {
   "cell_type": "code",
   "execution_count": null,
   "metadata": {},
   "outputs": [],
   "source": [
    "history = []\n",
    "def repeat_history(update, context):\n",
    "    \"\"\"Whatever the user says, reverse their message and repeat it back to them.\"\"\"\n",
    "    message = update.message.text\n",
    "    history.append(message)\n",
    "    \n",
    "    # here is where you insert your chatbot\n",
    "    output = \" # \".join(history)\n",
    "    \n",
    "    context.bot.send_message(chat_id=update.message.chat_id, text=output)\n",
    "    \n",
    "bot = Chatbot(TOKEN)\n",
    "bot.add_handler(MessageHandler(Filters.text, repeat_history))"
   ]
  },
  {
   "cell_type": "code",
   "execution_count": null,
   "metadata": {},
   "outputs": [],
   "source": [
    "bot.stop()"
   ]
  },
  {
   "cell_type": "markdown",
   "metadata": {},
   "source": [
    "# And that's it! Now you can create your own chatbot.\n",
    "\n",
    "Now in your own projects: Create a model which produces a response to a user conversation history, and create a message handler to utilize Telegram messaging. Good to go!"
   ]
  }
 ],
 "metadata": {
  "kernelspec": {
   "display_name": "Python 3",
   "language": "python",
   "name": "python3"
  },
  "language_info": {
   "codemirror_mode": {
    "name": "ipython",
    "version": 3
   },
   "file_extension": ".py",
   "mimetype": "text/x-python",
   "name": "python",
   "nbconvert_exporter": "python",
   "pygments_lexer": "ipython3",
   "version": "3.6.5"
  }
 },
 "nbformat": 4,
 "nbformat_minor": 2
}
